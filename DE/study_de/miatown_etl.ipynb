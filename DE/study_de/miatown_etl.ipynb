{
 "cells": [
  {
   "cell_type": "code",
   "execution_count": 2,
   "id": "75f1776e",
   "metadata": {},
   "outputs": [],
   "source": [
    "import os\n",
    "from pyspark.sql import SparkSession\n",
    "from pyspark.sql.functions import *\n",
    "spark = SparkSession.builder.getOrCreate()\n",
    "import psycopg2\n",
    "\n",
    "from sqlalchemy import create_engine\n",
    "\n",
    "#DATABASE\n",
    "host = 'localhost'\n",
    "dbname = 'miatown'\n",
    "user = 'postgres'\n",
    "password = input('hay nhap pass')\n",
    "port = '5432'\n",
    "\n",
    "\n",
    "#PATH\n",
    "path = 'C:\\\\Users\\\\thehu\\\\OneDrive\\\\Mia_town\\\\IT\\\\Data\\\\MIATOWN\\\\raw\\\\'"
   ]
  },
  {
   "cell_type": "markdown",
   "id": "a38693d9",
   "metadata": {},
   "source": [
    "### Create/ Update Database"
   ]
  },
  {
   "cell_type": "code",
   "execution_count": 3,
   "id": "6683cecc",
   "metadata": {},
   "outputs": [],
   "source": [
    "#CREATE TABLE\n",
    "conn = psycopg2.connect(f'host= {host} \\\n",
    "                        dbname= {dbname} \\\n",
    "                        user= {user} \\\n",
    "                        password= {password} \\\n",
    "                        ')\n",
    "\n",
    "#set commit automaticaly\n",
    "conn.set_session(autocommit=True)\n",
    "cur = conn.cursor()\n",
    "\n",
    "try:\n",
    "    cur.execute(\"\"\"\n",
    "                CREATE TABLE IF NOT EXISTS transaction(\n",
    "                table_id VARCHAR,\n",
    "                table_name VARCHAR,\n",
    "                trans_id VARCHAR,\n",
    "                amount_origin INT,\n",
    "                voucher_amount_paid INT,\n",
    "                total_amount INT,\n",
    "                trans_date DATE,\n",
    "                voucher_name VARCHAR,\n",
    "                customer_name VARCHAR,\n",
    "                customer_phone VARCHAR);\n",
    "                \n",
    "\n",
    "                \"\"\")\n",
    "except psycopg2.Error as e:\n",
    "    print('error in creating table')\n",
    "\n",
    "\n",
    "\n",
    "def load_data_to_database(transaction):\n",
    "    ## IMPORT DATA TO DATABASE\n",
    "    engine = create_engine(f'postgresql://{user}:{password}@{host}:{port}/{dbname}')\n",
    "    \n",
    "    #get data from database to check \n",
    "    transaction_pd = pd.read_sql_table('transaction', engine)\n",
    "    transaction_ps = spark.createDataFrame(transaction_pd)\n",
    "    \n",
    "    exists = transaction_ps.filter()\n",
    "\n",
    "\n",
    "\n",
    "\n",
    "\n",
    "    #import new invoice to sql\n",
    "    new_transaction = transaction[~transaction['ma_hoa_don'].isin(transaction_ps['ma_hoa_don'])]\n",
    "    new_transaction.to_sql('transaction', engine, if_exists='append', index= False)\n",
    "\n",
    "\n",
    "\n",
    "\n",
    "\n"
   ]
  },
  {
   "cell_type": "markdown",
   "id": "270d8583",
   "metadata": {},
   "source": [
    "### Transform Data"
   ]
  },
  {
   "cell_type": "code",
   "execution_count": 4,
   "id": "d4b57d1d",
   "metadata": {},
   "outputs": [],
   "source": [
    "def df_combined(path):\n",
    "    df_combined = None \n",
    "    print('----------  combine file  ----------')\n",
    "    json_file = [f'{path}{file}' for file in os.listdir(path) if file.endswith('.json')]        #print a list of exactly json file from folder\n",
    "    for file in json_file:\n",
    "        print(f'----------  Selecting from {file}  ----------')\n",
    "        df = spark.read.json(file)\n",
    "        df = (\n",
    "                df.withColumn('customer_name', col('extra_data.customer_name')) \\\n",
    "                    .withColumn('customer_phone', col('extra_data.customer_phone')) \\\n",
    "                    .withColumn('trans_id', col('sale_detail').getItem(0).getItem('tran_id')) \\\n",
    "                    .withColumn(\"trans_date\", from_unixtime(col(\"created_at\") / 1000))\n",
    "        )\n",
    "        df = df.select(\n",
    "                    'table_id',\n",
    "                    'table_name', \n",
    "                    'trans_id', \n",
    "                    'amount_origin',\n",
    "                    'voucher_amount_paid', \n",
    "                    'total_amount', \n",
    "                    'trans_date', \n",
    "                    'voucher_name', \n",
    "                    'customer_name',\n",
    "                    'customer_phone' )\n",
    "        print(f'----------  Union {file}  ----------')\n",
    "        df_combined = df if df_combined is None else df_combined.union(df)\n",
    "    return df_combined"
   ]
  },
  {
   "cell_type": "code",
   "execution_count": 5,
   "id": "520dea43",
   "metadata": {},
   "outputs": [
    {
     "name": "stdout",
     "output_type": "stream",
     "text": [
      "----------  combine file  ----------\n",
      "----------  Selecting from C:\\Users\\thehu\\OneDrive\\Mia_town\\IT\\Data\\MIATOWN\\raw\\bida_t04_2025.json  ----------\n",
      "----------  Union C:\\Users\\thehu\\OneDrive\\Mia_town\\IT\\Data\\MIATOWN\\raw\\bida_t04_2025.json  ----------\n",
      "----------  Selecting from C:\\Users\\thehu\\OneDrive\\Mia_town\\IT\\Data\\MIATOWN\\raw\\gamingps_t04_2025.json  ----------\n",
      "----------  Union C:\\Users\\thehu\\OneDrive\\Mia_town\\IT\\Data\\MIATOWN\\raw\\gamingps_t04_2025.json  ----------\n",
      "----------  Selecting from C:\\Users\\thehu\\OneDrive\\Mia_town\\IT\\Data\\MIATOWN\\raw\\kid_t04_2025.json  ----------\n",
      "----------  Union C:\\Users\\thehu\\OneDrive\\Mia_town\\IT\\Data\\MIATOWN\\raw\\kid_t04_2025.json  ----------\n"
     ]
    }
   ],
   "source": [
    "transaction = df_combined(path)"
   ]
  },
  {
   "cell_type": "code",
   "execution_count": 6,
   "id": "a882a0eb",
   "metadata": {},
   "outputs": [
    {
     "name": "stdout",
     "output_type": "stream",
     "text": [
      "+----------+-------------------+--------------------+-------------+-------------------+------------+-------------------+------------------+------------------+--------------+\n",
      "|  table_id|         table_name|            trans_id|amount_origin|voucher_amount_paid|total_amount|         trans_date|      voucher_name|     customer_name|customer_phone|\n",
      "+----------+-------------------+--------------------+-------------+-------------------+------------+-------------------+------------------+------------------+--------------+\n",
      "|TABLE-FS07| Bàn 24 - BIDA BĂNG|P63JDN7MGD2P1ZLF2...|     383211.0|                0.0|    383211.0|2025-05-01 06:46:44|                  |     Phạm Hoàng Ân|   84985678036|\n",
      "|TABLE-FS07| Bàn 24 - BIDA BĂNG|P63JDN7MGD2P75QPB...|     168674.0|                0.0|    168674.0|2025-05-01 06:46:41|                  |     Phạm Hoàng Ân|   84985678036|\n",
      "|TABLE-5PKG|Bàn 20 - BIDA LIBRE|P63JDN7MGD2P1ZLF8...|     101792.0|                0.0|    101792.0|2025-05-01 06:42:05|                  |                  |              |\n",
      "|TABLE-BOZZ|    Bàn 7 - BIDA LỖ|4PW46ZJ6VPRKJVY8U...|      59954.0|                0.0|     59954.0|2025-05-01 06:39:02|                  |                  |              |\n",
      "|TABLE-0LEX|   Bàn 19 - BIDA LỖ|P63JDN7MGD2P1ZLF2...|     319827.0|                0.0|    319827.0|2025-05-01 06:35:26|                  |              tuan|   84961281324|\n",
      "|TABLE-ZPN2|    Bàn 3 - BIDA LỖ|4PW46ZJ6VPRK5IVI2...|     258070.0|            37614.0|    220456.0|2025-05-01 06:30:28|          HỌC SINH|            Phương|   84896996403|\n",
      "|TABLE-864Z|    Bàn 2 - BIDA LỖ|4PW46ZJ6VPRK5IVI9...|     124110.0|            17822.0|    106288.0|2025-05-01 06:24:23|          HỌC SINH|               bảo|   84786294432|\n",
      "|TABLE-7JUJ|   Bàn 18 - BIDA LỖ|P63JDN7MGD2P1ZLF5...|     181104.0|                0.0|    181104.0|2025-05-01 06:22:49|                  |                  |              |\n",
      "|TABLE-1M2D|    Bàn 9 - BIDA LỖ|4PW46ZJ6VPRK5IVI3...|     156848.0|                0.0|    156848.0|2025-05-01 06:16:51|                  |          Lê Hồ An|   84909679194|\n",
      "|TABLE-6V5M|   Bàn 15 - BIDA LỖ|4PW46ZJ6VPRK5IVIA...|      46669.0|             9334.0|     37335.0|2025-05-01 06:13:05|          HỌC SINH|               gia|   84398671125|\n",
      "|TABLE-ZK07|   Bàn 14 - BIDA LỖ|4PW46ZJ6VPRK5IVI0...|     179636.0|            35927.0|    143709.0|2025-05-01 06:07:26|GIẢM GIÁ NHÂN VIÊN|Nguyễn Thanh Bạch |   84902210132|\n",
      "|TABLE-49MB|    Bàn 1 - BIDA LỖ|4PW46ZJ6VPRKJVY79...|     210131.0|            87566.0|    122565.0|2025-05-01 06:02:23|     GIẢM GIÁ SOLO|             khanh|   84896204837|\n",
      "|TABLE-4VDL|    Bàn 5 - BIDA LỖ|4PW46ZJ6VPRK5IVI1...|     132997.0|                0.0|    132997.0|2025-05-01 05:55:03|                  |                  |              |\n",
      "|TABLE-K6F9|    Bàn 6 - BIDA LỖ|4PW46ZJ6VPRK5IVHU...|     223552.0|            44710.0|    178842.0|2025-05-01 05:51:42|          HỌC SINH|       Tô Hoa Kiện|   84797252349|\n",
      "|TABLE-ZLMS|   Bàn 13 - BIDA LỖ|4PW46ZJ6VPRKJVY80...|      80497.0|            16099.0|     64398.0|2025-05-01 05:50:52|          HỌC SINH|   Nguyễn Anh Phôn|   84902831780|\n",
      "|TABLE-BOZZ|    Bàn 7 - BIDA LỖ|4PW46ZJ6VPRK5IVHU...|     254078.0|                0.0|    254078.0|2025-05-01 05:48:16|                  |                  |              |\n",
      "|TABLE-5PKG|Bàn 20 - BIDA LIBRE|P63JDN7MGD2P1ZLF2...|     162248.0|                0.0|    162248.0|2025-05-01 05:23:28|                  |               phi|   84354113785|\n",
      "|TABLE-6V5M|   Bàn 15 - BIDA LỖ|4PW46ZJ6VPRK5IVHV...|     189034.0|            30807.0|    158227.0|2025-05-01 05:23:07|          HỌC SINH|              tram|   84968006790|\n",
      "|TABLE-22BH|   Bàn 10 - BIDA LỖ|4PW46ZJ6VPRK1ZLF3...|     286880.0|            41376.0|    245504.0|2025-05-01 05:15:46|          HỌC SINH|     Lê Hoàng Minh|   84389483470|\n",
      "|TABLE-864Z|    Bàn 2 - BIDA LỖ|4PW46ZJ6VPRK5IVHL...|     322638.0|                0.0|    322638.0|2025-05-01 05:00:33|                  |    Hoàng gia phát|   84365737355|\n",
      "+----------+-------------------+--------------------+-------------+-------------------+------------+-------------------+------------------+------------------+--------------+\n",
      "only showing top 20 rows\n",
      "\n"
     ]
    }
   ],
   "source": [
    "transaction.show()"
   ]
  },
  {
   "cell_type": "code",
   "execution_count": null,
   "id": "bddf5e54",
   "metadata": {},
   "outputs": [
    {
     "ename": "TypeError",
     "evalue": "DataFrameReader.options() takes 1 positional argument but 2 were given",
     "output_type": "error",
     "traceback": [
      "\u001b[1;31m---------------------------------------------------------------------------\u001b[0m",
      "\u001b[1;31mTypeError\u001b[0m                                 Traceback (most recent call last)",
      "Cell \u001b[1;32mIn[7], line 1\u001b[0m\n\u001b[1;32m----> 1\u001b[0m spark\u001b[38;5;241m.\u001b[39mread\u001b[38;5;241m.\u001b[39mformat(\u001b[38;5;124m'\u001b[39m\u001b[38;5;124mjbdc\u001b[39m\u001b[38;5;124m'\u001b[39m)\u001b[38;5;241m.\u001b[39moptions(conn)\n",
      "\u001b[1;31mTypeError\u001b[0m: DataFrameReader.options() takes 1 positional argument but 2 were given"
     ]
    }
   ],
   "source": [
    "# spark.read.format('jbdc').options(conn)\n"
   ]
  },
  {
   "cell_type": "code",
   "execution_count": 8,
   "id": "d208210c",
   "metadata": {},
   "outputs": [],
   "source": [
    "transaction.createOrReplaceTempView(\"transaction_table\")\n"
   ]
  },
  {
   "cell_type": "code",
   "execution_count": 10,
   "id": "9a40ff6f",
   "metadata": {},
   "outputs": [
    {
     "name": "stdout",
     "output_type": "stream",
     "text": [
      "+--------------------+\n",
      "|            trans_id|\n",
      "+--------------------+\n",
      "|P63JDN7MGD2P1ZLF2...|\n",
      "|P63JDN7MGD2P75QPB...|\n",
      "|P63JDN7MGD2P1ZLF8...|\n",
      "|4PW46ZJ6VPRKJVY8U...|\n",
      "|P63JDN7MGD2P1ZLF2...|\n",
      "|4PW46ZJ6VPRK5IVI2...|\n",
      "|4PW46ZJ6VPRK5IVI9...|\n",
      "|P63JDN7MGD2P1ZLF5...|\n",
      "|4PW46ZJ6VPRK5IVI3...|\n",
      "|4PW46ZJ6VPRK5IVIA...|\n",
      "|4PW46ZJ6VPRK5IVI0...|\n",
      "|4PW46ZJ6VPRKJVY79...|\n",
      "|4PW46ZJ6VPRK5IVI1...|\n",
      "|4PW46ZJ6VPRK5IVHU...|\n",
      "|4PW46ZJ6VPRKJVY80...|\n",
      "|4PW46ZJ6VPRK5IVHU...|\n",
      "|P63JDN7MGD2P1ZLF2...|\n",
      "|4PW46ZJ6VPRK5IVHV...|\n",
      "|4PW46ZJ6VPRK1ZLF3...|\n",
      "|4PW46ZJ6VPRK5IVHL...|\n",
      "+--------------------+\n",
      "only showing top 20 rows\n",
      "\n"
     ]
    }
   ],
   "source": [
    "spark.sql('select trans_id from transaction_table').show()"
   ]
  },
  {
   "cell_type": "code",
   "execution_count": null,
   "id": "ddf2c91d",
   "metadata": {},
   "outputs": [],
   "source": []
  },
  {
   "cell_type": "code",
   "execution_count": null,
   "id": "4c2d2379",
   "metadata": {},
   "outputs": [],
   "source": []
  },
  {
   "cell_type": "code",
   "execution_count": null,
   "id": "70f6459f",
   "metadata": {},
   "outputs": [],
   "source": []
  },
  {
   "cell_type": "code",
   "execution_count": null,
   "id": "50f1294c",
   "metadata": {},
   "outputs": [],
   "source": []
  },
  {
   "cell_type": "code",
   "execution_count": null,
   "id": "6fc1d6c9",
   "metadata": {},
   "outputs": [],
   "source": []
  },
  {
   "cell_type": "code",
   "execution_count": null,
   "id": "7999fb8f",
   "metadata": {},
   "outputs": [],
   "source": []
  },
  {
   "cell_type": "code",
   "execution_count": null,
   "id": "ebecef78",
   "metadata": {},
   "outputs": [],
   "source": []
  },
  {
   "cell_type": "code",
   "execution_count": null,
   "id": "cd5a1d91",
   "metadata": {},
   "outputs": [],
   "source": []
  },
  {
   "cell_type": "code",
   "execution_count": null,
   "id": "f4c2b845",
   "metadata": {},
   "outputs": [],
   "source": []
  },
  {
   "cell_type": "code",
   "execution_count": null,
   "id": "9423165a",
   "metadata": {},
   "outputs": [],
   "source": []
  }
 ],
 "metadata": {
  "kernelspec": {
   "display_name": "base",
   "language": "python",
   "name": "python3"
  },
  "language_info": {
   "codemirror_mode": {
    "name": "ipython",
    "version": 3
   },
   "file_extension": ".py",
   "mimetype": "text/x-python",
   "name": "python",
   "nbconvert_exporter": "python",
   "pygments_lexer": "ipython3",
   "version": "3.11.7"
  }
 },
 "nbformat": 4,
 "nbformat_minor": 5
}
